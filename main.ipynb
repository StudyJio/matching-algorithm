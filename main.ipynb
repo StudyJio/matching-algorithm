{
 "cells": [
  {
   "cell_type": "code",
   "execution_count": 6,
   "metadata": {},
   "outputs": [],
   "source": [
    "import math\n",
    "import numpy\n",
    "from geopy import distance\n",
    "import pandas\n",
    "import pygad\n",
    "import random\n",
    "\n",
    "path_to_user_data = \"ToyUserData2.csv\""
   ]
  },
  {
   "cell_type": "markdown",
   "metadata": {},
   "source": [
    "# Chromosome\n",
    "\n",
    "### Invariant:\n",
    "Each integer in the range [0, `len(chromosome) / 5`] appears exactly five times (in any order)."
   ]
  },
  {
   "cell_type": "markdown",
   "metadata": {},
   "source": [
    "## Reorder Chromosome\n",
    "\n",
    "$i < j \\implies$ The number $i$ appears before the number $j$ in the chromosome."
   ]
  },
  {
   "cell_type": "code",
   "execution_count": 7,
   "metadata": {},
   "outputs": [],
   "source": [
    "def reorder_chromosome(chromosome):\n",
    "    dictionary = {}\n",
    "\n",
    "    for i in range(len(chromosome)):\n",
    "\n",
    "        if (chromosome[i] not in dictionary): # O(1) average time\n",
    "            dictionary[chromosome[i]] = len(dictionary)\n",
    "\n",
    "        chromosome[i] = dictionary[chromosome[i]]"
   ]
  },
  {
   "cell_type": "markdown",
   "metadata": {},
   "source": [
    "## Generate Chromosome\n",
    "Given a chromosome length, generate a random legal chromosome."
   ]
  },
  {
   "cell_type": "code",
   "execution_count": 8,
   "metadata": {},
   "outputs": [],
   "source": [
    "def generate_chromosome(length):\n",
    "    \n",
    "    # Generate the array [0, 1, 2, ..., length - 1].\n",
    "    chromosome = []\n",
    "    chromosome.extend(range(length))\n",
    "\n",
    "    # Shuffle the array.\n",
    "    numpy.random.shuffle(chromosome)\n",
    "\n",
    "    # Divide (integer division) each number by five.\n",
    "    chromosome = [math.floor(n / 5) for n in chromosome]\n",
    "    reorder_chromosome(chromosome)\n",
    "    return chromosome"
   ]
  },
  {
   "cell_type": "markdown",
   "metadata": {},
   "source": [
    "## Validate Chromosome\n",
    "\n",
    "Verify that the invariant holds in $O(n)$ time and $O(n)$ space, where $n$ is the number of users."
   ]
  },
  {
   "cell_type": "code",
   "execution_count": 9,
   "metadata": {},
   "outputs": [
    {
     "name": "stdout",
     "output_type": "stream",
     "text": [
      "True\n",
      "True\n",
      "True\n",
      "True\n",
      "True\n",
      "True\n",
      "True\n",
      "True\n",
      "True\n",
      "True\n",
      "True\n",
      "True\n",
      "True\n",
      "True\n",
      "True\n",
      "True\n",
      "True\n",
      "True\n",
      "True\n",
      "True\n",
      "True\n",
      "True\n",
      "True\n",
      "True\n",
      "True\n",
      "True\n",
      "True\n",
      "True\n",
      "True\n",
      "True\n"
     ]
    }
   ],
   "source": [
    "def chromosome_is_valid(chromosome):\n",
    "\n",
    "    number_of_groups = math.floor(len(chromosome) / 5)\n",
    "\n",
    "    # Use a dictionary to maintain a count of how many times each integer has been seen.\n",
    "    occurrences = {}\n",
    "    for i in range(number_of_groups):\n",
    "        occurrences[i] = 0\n",
    "\n",
    "    # When iterating through the chromosome, remember what is the highest number seen.\n",
    "    highest_number_seen = -1\n",
    "\n",
    "    # Iterate through the chromosome.\n",
    "    for i in range(len(chromosome)):\n",
    "\n",
    "        current_number = chromosome[i]\n",
    "\n",
    "        # (The chromosome cannot contain the number 8 if there are only 5 groups.)\n",
    "        if (current_number > (number_of_groups - 1)):\n",
    "            return False\n",
    "\n",
    "        # (The chromosome cannot contain negative numbers.)\n",
    "        if (current_number < 0):\n",
    "            return False\n",
    "        \n",
    "        occurrences[current_number] += 1\n",
    "\n",
    "        if (current_number - highest_number_seen > 1):\n",
    "            return False\n",
    "\n",
    "        highest_number_seen = max(current_number, highest_number_seen)     \n",
    "\n",
    "    # Check the dictionary for any values which !== 5.\n",
    "    for i in range(number_of_groups):\n",
    "        if (occurrences[i] != 5):\n",
    "            return False\n",
    "\n",
    "    return True"
   ]
  },
  {
   "cell_type": "markdown",
   "metadata": {},
   "source": [
    "## Repair Chromosome\n",
    "\n",
    "Repair chromosomes by randomly replacing (numbers there are too many of) with (numbers there are too few of.)\n",
    "\n"
   ]
  },
  {
   "cell_type": "code",
   "execution_count": 10,
   "metadata": {},
   "outputs": [],
   "source": [
    "def repair_chromosome(chromosome):\n",
    "\n",
    "    # print(\"repair_chromosome() was called.\")\n",
    "\n",
    "    number_of_groups = math.floor(len(chromosome) / 5)\n",
    "\n",
    "    # Use a dictionary to maintain a count of how many times each integer has been seen.\n",
    "    occurrences = {}\n",
    "    for i in range(number_of_groups):\n",
    "        occurrences[i] = 0\n",
    "\n",
    "    # Iterate through the chromosome.\n",
    "    for i in range(len(chromosome)):\n",
    "\n",
    "        # (If a number in the chromosome is out of bounds, replace it with 0.)\n",
    "        if (chromosome[i] > number_of_groups - 1 or chromosome[i] < 0):\n",
    "            chromosome[i] = 0\n",
    "        \n",
    "        occurrences[chromosome[i]] += 1\n",
    "\n",
    "    # Get an array of numbers there are too few of.\n",
    "    # For example, if the chromosome has three 7s, the array will be [..., 7, 7, ...].\n",
    "\n",
    "    array_of_missing_numbers = []\n",
    "\n",
    "    for group_number in range(number_of_groups):\n",
    "        if (occurrences[group_number] < 5):\n",
    "            for ignore in range(5 - occurrences[group_number]):\n",
    "                array_of_missing_numbers.append(group_number)\n",
    "\n",
    "    numpy.random.shuffle(array_of_missing_numbers)\n",
    "\n",
    "    # Select a place in the chromosome to start reparing.\n",
    "    repair_chromosome_index = numpy.random.randint(len(chromosome));\n",
    "\n",
    "    for ignore in range(len(chromosome)):\n",
    "        current_number = chromosome[repair_chromosome_index]\n",
    "\n",
    "        if (occurrences[current_number] > 5):\n",
    "            chromosome[repair_chromosome_index] = array_of_missing_numbers.pop()\n",
    "            \n",
    "            occurrences[current_number] -= 1\n",
    "            # (There is no need to do occurrences[number_that_replaces_current_number] += 1.)\n",
    "\n",
    "        # Look at the next number in the chromosome.\n",
    "        # If we have reached the end of the chromosome, jump to the beginning of the chromosome.\n",
    "        repair_chromosome_index = (repair_chromosome_index + 1) % len(chromosome)"
   ]
  },
  {
   "cell_type": "markdown",
   "metadata": {},
   "source": [
    "## Calculate Chromosome Fitness"
   ]
  },
  {
   "cell_type": "markdown",
   "metadata": {},
   "source": [
    "### Copypasta from `compatibility.ipynb`"
   ]
  },
  {
   "cell_type": "code",
   "execution_count": 11,
   "metadata": {},
   "outputs": [],
   "source": [
    "# Read the data.\n",
    "df_location = pandas.read_csv(\"Location Information.csv\", index_col = \"station_name\")\n",
    "\n",
    "# Return the distance between the MRT stations in kilometers.\n",
    "def distance_between_locations(station_1: str, station_2: str):\n",
    "\n",
    "    station_1 = station_1.upper()\n",
    "    station_2 = station_2.upper()\n",
    "\n",
    "    station_1_coordinates = (df_location.loc[station_1].latitude, df_location.loc[station_1].longitude)\n",
    "    station_2_coordinates = (df_location.loc[station_2].latitude, df_location.loc[station_2].longitude)\n",
    "    \n",
    "    return math.ceil(distance.distance(station_1_coordinates, station_2_coordinates).km)\n",
    "\n",
    "def learning_style_compatibility(array_1, array_2):\n",
    "\n",
    "    # Divide the input vectors by their magnitudes to obtain unit vectors.\n",
    "    array_1_normalised = array_1 / numpy.linalg.norm(array_1)\n",
    "    array_2_normalised = array_2 / numpy.linalg.norm(array_2)\n",
    "\n",
    "    return numpy.dot(array_1_normalised, array_2_normalised)\n",
    "\n",
    "def module_compatibility(set_1: set, set_2: set):\n",
    "    return len(set_1.intersection(set_2))\n",
    "\n",
    "# Read the data.\n",
    "df_users = pandas.read_csv(path_to_user_data, index_col = \"user_id\")\n",
    "\n",
    "class User:\n",
    "    def __init__(self, user_id, dim_1, dim_2, dim_3, dim_4, location, module_1, module_2, module_3, module_4, module_5, module_6):\n",
    "        self.user_id = user_id\n",
    "        self.learning_style = [dim_1, dim_2, dim_3, dim_4]\n",
    "        self.location = location\n",
    "        self.modules = {module_1, module_2, module_3, module_4, module_5, module_6}\n",
    "\n",
    "    def toString(self):\n",
    "        return \"user_id: \" + str(self.user_id) + \" learning_style: \" + str(self.learning_style) + \" location: \" + str(self.location) + \" modules: \" + str(self.modules)\n",
    "\n",
    "\n",
    "def get_user_from_id(user_id):\n",
    "\n",
    "    row = df_users.loc[user_id]\n",
    "\n",
    "    return User(user_id, row.studying_style_dim_1, row.studying_style_dim_2, row.studying_style_dim_3, row.studying_style_dim_4, row.user_location, row.module_1, row.module_2, row.module_3, row.module_4, row.module_5, row.module_6)\n",
    "   \n",
    "\n",
    "def calculate_pair_compatibility(user_1, user_2):\n",
    "\n",
    "    a = 50 * module_compatibility(user_1.modules, user_2.modules)\n",
    "    b = 100 * learning_style_compatibility(user_1.learning_style, user_2.learning_style)\n",
    "    c = - 5 * distance_between_locations(user_1.location, user_2.location)\n",
    "    \n",
    "    return a + b + c\n",
    "\n",
    "def calculate_group_compatibility(user_array):\n",
    "\n",
    "    compatibility_score = 0\n",
    "\n",
    "    number_of_users = len(user_array)\n",
    "\n",
    "    for i in range(0, number_of_users):\n",
    "        for j in range(i, number_of_users):\n",
    "            compatibility_score += calculate_pair_compatibility(user_array[i], user_array[j])\n",
    "    \n",
    "    return compatibility_score / math.comb(number_of_users, 2)"
   ]
  },
  {
   "cell_type": "markdown",
   "metadata": {},
   "source": [
    "### Fitness Function"
   ]
  },
  {
   "cell_type": "code",
   "execution_count": 12,
   "metadata": {},
   "outputs": [],
   "source": [
    "def calculate_chromosome_fitness(chromosome, solution_index):\n",
    "\n",
    "    # solution_index is not used. PyGAD requires such a parameter.\n",
    "    \n",
    "    if (not chromosome_is_valid(chromosome)):\n",
    "        repair_chromosome(chromosome)\n",
    "\n",
    "    # Parse the chromosome and represent the grouping using a dictionary.\n",
    "    # The dictionary's keys are the team IDs. Each value is an array of user objects.\n",
    "    number_of_users = len(chromosome)\n",
    "    number_of_groups = math.floor(number_of_users / 5)\n",
    "\n",
    "    dictionary = {}\n",
    "\n",
    "    # Initialise the dictionary.\n",
    "    for i in range(number_of_groups):\n",
    "        dictionary[i] = []\n",
    "\n",
    "    # Add users to their corresponding groups.\n",
    "    for i in range(number_of_users):\n",
    "        dictionary[chromosome[i]].append(get_user_from_id(i))\n",
    "        \n",
    "    total_group_compatibility = 0;\n",
    "    for i in range(number_of_groups):\n",
    "        total_group_compatibility += calculate_group_compatibility(dictionary[i])\n",
    "\n",
    "    return total_group_compatibility / number_of_groups"
   ]
  },
  {
   "cell_type": "markdown",
   "metadata": {},
   "source": [
    "# `pygad`"
   ]
  },
  {
   "cell_type": "markdown",
   "metadata": {},
   "source": [
    "## Settings"
   ]
  },
  {
   "cell_type": "code",
   "execution_count": 13,
   "metadata": {},
   "outputs": [],
   "source": [
    "parent_selection_type = \"sss\"\n",
    "keep_parents = 2\n",
    "\n",
    "crossover_type = \"scattered\"\n",
    "\n",
    "mutation_type = \"swap\"\n",
    "mutation_percent_genes = 10\n",
    "\n",
    "def callback_gen(ga_instance):\n",
    "    print(\"Generation : \", ga_instance.generations_completed)\n",
    "    print(\"Fitness of the best solution :\", ga_instance.best_solution()[1])\n",
    "    \n",
    "    # Reorder every chromosome in the generation.\n",
    "    for i in range(sol_per_pop):\n",
    "        reorder_chromosome(ga_instance.population[i])"
   ]
  },
  {
   "cell_type": "markdown",
   "metadata": {},
   "source": [
    "## Custom Mutation Function\n",
    "For each chromosome, swap the location of two different genes."
   ]
  },
  {
   "cell_type": "code",
   "execution_count": 14,
   "metadata": {},
   "outputs": [
    {
     "data": {
      "text/plain": [
       "' def mutation_function(offspring, ga_instance):\\n    \\n    number_of_chromosomes = offspring.shape[0]\\n    chromosome_length = len(offspring[0])\\n\\n    print(offspring.shape)\\n    for chromosome_index in range(number_of_chromosomes):\\n        \\n        while (True):\\n            # Select two different gene locations.\\n            [gene_one_index, gene_two_index] = random.sample(range(chromosome_length), 2)\\n\\n            gene_one_value = offspring[chromosome_index, gene_one_index]\\n            gene_two_value = offspring[chromosome_index, gene_two_index]\\n \\n            if (gene_one_value == gene_two_value):\\n                # If the genes at these two locations are the same, then swapping them will have no effect.\\n                # Try looking at another pair of genes.\\n                continue\\n            else:\\n                # Swap the values.\\n                offspring[chromosome_index, gene_one_index] = gene_two_value\\n                offspring[chromosome_index, gene_two_index] = gene_one_value\\n                break # Exit the while loop.\\n    print(offspring.shape) '"
      ]
     },
     "execution_count": 14,
     "metadata": {},
     "output_type": "execute_result"
    }
   ],
   "source": [
    "\"\"\" def mutation_function(offspring, ga_instance):\n",
    "    \n",
    "    number_of_chromosomes = offspring.shape[0]\n",
    "    chromosome_length = len(offspring[0])\n",
    "\n",
    "    print(offspring.shape)\n",
    "    for chromosome_index in range(number_of_chromosomes):\n",
    "        \n",
    "        while (True):\n",
    "            # Select two different gene locations.\n",
    "            [gene_one_index, gene_two_index] = random.sample(range(chromosome_length), 2)\n",
    "\n",
    "            gene_one_value = offspring[chromosome_index, gene_one_index]\n",
    "            gene_two_value = offspring[chromosome_index, gene_two_index]\n",
    " \n",
    "            if (gene_one_value == gene_two_value):\n",
    "                # If the genes at these two locations are the same, then swapping them will have no effect.\n",
    "                # Try looking at another pair of genes.\n",
    "                continue\n",
    "            else:\n",
    "                # Swap the values.\n",
    "                offspring[chromosome_index, gene_one_index] = gene_two_value\n",
    "                offspring[chromosome_index, gene_two_index] = gene_one_value\n",
    "                break # Exit the while loop.\n",
    "    print(offspring.shape) \"\"\""
   ]
  },
  {
   "cell_type": "code",
   "execution_count": 15,
   "metadata": {},
   "outputs": [],
   "source": [
    "def custom_mutation_function(offspring, ga_instance):\n",
    "    \n",
    "    # Swap mutation.\n",
    "    for idx in range(offspring.shape[0]):\n",
    "        mutation_gene1 = numpy.random.randint(low=0, high=offspring.shape[1]/2, size=1)[0]\n",
    "        mutation_gene2 = mutation_gene1 + int(offspring.shape[1]/2)\n",
    "\n",
    "        temp = offspring[idx, mutation_gene1]\n",
    "        offspring[idx, mutation_gene1] = offspring[idx, mutation_gene2]\n",
    "        offspring[idx, mutation_gene2] = temp\n",
    "        reorder_chromosome(offspring[idx])\n",
    "    return offspring"
   ]
  },
  {
   "cell_type": "markdown",
   "metadata": {},
   "source": [
    "## PyGad Instance"
   ]
  },
  {
   "cell_type": "code",
   "execution_count": 16,
   "metadata": {},
   "outputs": [
    {
     "name": "stderr",
     "output_type": "stream",
     "text": [
      "/Library/Frameworks/Python.framework/Versions/3.10/lib/python3.10/site-packages/pygad/pygad.py:731: UserWarning: Starting from PyGAD 2.6.0, the callback_generation parameter is deprecated and will be removed in a later release of PyGAD. Please use the on_generation parameter instead.\n",
      "  if not self.suppress_warnings: warnings.warn(\"Starting from PyGAD 2.6.0, the callback_generation parameter is deprecated and will be removed in a later release of PyGAD. Please use the on_generation parameter instead.\")\n"
     ]
    },
    {
     "name": "stdout",
     "output_type": "stream",
     "text": [
      "Generation :  1\n"
     ]
    }
   ],
   "source": [
    "initial_population = []\n",
    "sol_per_pop = 50\n",
    "\n",
    "number_of_users = len(df_users)\n",
    "\n",
    "for i in range(sol_per_pop):\n",
    "    initial_population.append(generate_chromosome(number_of_users))\n",
    "\n",
    "ga_instance = pygad.GA(num_generations=100,\n",
    "                       num_parents_mating=2,\n",
    "                       fitness_func=calculate_chromosome_fitness,\n",
    "                       sol_per_pop=50,\n",
    "                       num_genes=number_of_users,\n",
    "                       parent_selection_type=parent_selection_type,\n",
    "                       keep_parents=keep_parents,\n",
    "                       crossover_type=None,\n",
    "                       mutation_type=custom_mutation_function,\n",
    "                       mutation_percent_genes=mutation_percent_genes,\n",
    "                       gene_type=int,\n",
    "                       callback_generation=callback_gen)\n",
    "\n",
    "ga_instance.run()\n"
   ]
  },
  {
   "cell_type": "code",
   "execution_count": null,
   "metadata": {},
   "outputs": [
    {
     "data": {
      "image/png": "[encoded data removed]",
      "text/plain": [
       "<Figure size 432x288 with 1 Axes>"
      ]
     },
     "metadata": {
      "needs_background": "light"
     },
     "output_type": "display_data"
    },
    {
     "data": {
      "image/png": "[encoded data removed]",
      "text/plain": [
       "<Figure size 432x288 with 1 Axes>"
      ]
     },
     "execution_count": 18,
     "metadata": {},
     "output_type": "execute_result"
    }
   ],
   "source": [
    "ga_instance.plot_fitness()"
   ]
  },
  {
   "cell_type": "code",
   "execution_count": null,
   "metadata": {},
   "outputs": [],
   "source": [
    "solution = ga_instance.best_solution()[0]"
   ]
  },
  {
   "cell_type": "code",
   "execution_count": null,
   "metadata": {},
   "outputs": [
    {
     "name": "stdout",
     "output_type": "stream",
     "text": [
      "user_id: 4 learning_style: [-3, -3, 7, -3] location: LITTLE INDIA modules: {1, 7, 11, 19, 27}\n",
      "user_id: 7 learning_style: [-1, -1, 7, 1] location: ADMIRALTY modules: {3, 6, 7, 11, 18, 27}\n",
      "user_id: 8 learning_style: [-7, -7, -1, -1] location: TAI SENG modules: {1, 6, 8, 12, 19, 24}\n",
      "user_id: 11 learning_style: [-11, 5, 11, 5] location: GEYLANG BAHRU modules: {3, 6, 8, 12, 17, 22}\n",
      "user_id: 19 learning_style: [5, -11, 3, 7] location: BEAUTY WORLD modules: {3, 4, 6, 11, 20, 25}\n"
     ]
    }
   ],
   "source": [
    "for i in range(len(solution)):\n",
    "    if (solution[i] == 2):\n",
    "        print(get_user_from_id(i).toString())"
   ]
  }
 ],
 "metadata": {
  "interpreter": {
   "hash": "aee8b7b246df8f9039afb4144a1f6fd8d2ca17a180786b69acc140d282b71a49"
  },
  "kernelspec": {
   "display_name": "Python 3.10.1 64-bit",
   "language": "python",
   "name": "python3"
  },
  "language_info": {
   "codemirror_mode": {
    "name": "ipython",
    "version": 3
   },
   "file_extension": ".py",
   "mimetype": "text/x-python",
   "name": "python",
   "nbconvert_exporter": "python",
   "pygments_lexer": "ipython3",
   "version": "3.10.1"
  },
  "orig_nbformat": 4
 },
 "nbformat": 4,
 "nbformat_minor": 2
}
